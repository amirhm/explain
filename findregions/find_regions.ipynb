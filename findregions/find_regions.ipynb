{
 "cells": [
  {
   "cell_type": "code",
   "execution_count": 1,
   "metadata": {},
   "outputs": [],
   "source": [
    "from PIL import Image\n",
    "import numpy as np\n",
    "import matplotlib.pyplot as plt"
   ]
  },
  {
   "cell_type": "code",
   "execution_count": 2,
   "metadata": {},
   "outputs": [],
   "source": [
    "def generate_neighbours(point):\n",
    "    neighbours = [\n",
    "        (1, -1), (1, 0),(1, 1),\n",
    "        (0, -1), (0, 1),\n",
    "        (1, -1), (1, 0),(-1, 1)\n",
    "    ]\n",
    "    for neigh in neighbours:\n",
    "        yield tuple(map(sum, zip(point, neigh)))"
   ]
  },
  {
   "cell_type": "code",
   "execution_count": 3,
   "metadata": {},
   "outputs": [
    {
     "data": {
      "image/png": "[encoded data removed]",
      "text/plain": [
       "<Figure size 432x288 with 2 Axes>"
      ]
     },
     "metadata": {
      "needs_background": "light"
     },
     "output_type": "display_data"
    }
   ],
   "source": [
    "im = Image.open('Nkuf9.png')\n",
    "data = np.array(im)[:,:,0]\n",
    "wpoint = np.where(data == 255)\n",
    "points = set((x, y) for x, y in zip(*wpoint) )\n",
    "\n",
    "\n",
    "def find_regions(p , points):\n",
    "    reg = []\n",
    "    seen = set()\n",
    "    def dfs(point):\n",
    "        if point not in seen:\n",
    "            seen.add(point)\n",
    "            if point in points:\n",
    "                reg.append(point)\n",
    "                points.remove(point)\n",
    "                for n in generate_neighbours(point):\n",
    "                    dfs(n)\n",
    "    dfs(p)\n",
    "    return reg\n",
    "\n",
    "region =[]\n",
    "\n",
    "while points:\n",
    "    cur = next(iter(points))\n",
    "    reg = find_regions(cur, points)\n",
    "    region.append(reg.copy())\n",
    "\n",
    "\n",
    "\n",
    "areas = {idx: area for idx, area in enumerate(map(len,region))}\n",
    "areas = sorted(areas.items(), key=lambda x: x[1], reverse=True)\n",
    "\n",
    "\n",
    "num = 2\n",
    "for idx, area in enumerate(areas[:num]):\n",
    "    plt.subplot(1,num, idx + 1)\n",
    "    im = np.zeros((512, 512))\n",
    "    for x,y in region[area[0]]:\n",
    "        im[x,y] = 255\n",
    "    plt.imshow(im)\n"
   ]
  }
 ],
 "metadata": {
  "kernelspec": {
   "display_name": "Python 3",
   "language": "python",
   "name": "python3"
  },
  "language_info": {
   "codemirror_mode": {
    "name": "ipython",
    "version": 3
   },
   "file_extension": ".py",
   "mimetype": "text/x-python",
   "name": "python",
   "nbconvert_exporter": "python",
   "pygments_lexer": "ipython3",
   "version": "3.8.6"
  }
 },
 "nbformat": 4,
 "nbformat_minor": 4
}
